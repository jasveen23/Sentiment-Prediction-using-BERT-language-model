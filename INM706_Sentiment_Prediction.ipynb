{
 "cells": [
  {
   "cell_type": "markdown",
   "metadata": {},
   "source": [
    "# INM 706 Coursework Code\n",
    "# Sentiment Prediction of drug reviews dataset using BERT (Bidirectional Encoder Representation from Transformers)\n",
    "## By: Elisabeta Monica Furdui: 190045971 and Jasveen Kaur: 190020638 "
   ]
  },
  {
   "cell_type": "markdown",
   "metadata": {},
   "source": [
    "## Dataset Interface"
   ]
  },
  {
   "cell_type": "code",
   "execution_count": 1,
   "metadata": {},
   "outputs": [
    {
     "name": "stderr",
     "output_type": "stream",
     "text": [
      "I0826 15:36:17.702810  3292 file_utils.py:38] PyTorch version 1.1.0 available.\n"
     ]
    }
   ],
   "source": [
    "import numpy as np\n",
    "import pandas as pd\n",
    "import os\n",
    "import sys\n",
    "import csv\n",
    "import pickle\n",
    "import random\n",
    "import re\n",
    "import time\n",
    "import matplotlib.pyplot as plt\n",
    "\n",
    "import torch\n",
    "from torch import nn, optim\n",
    "from torch.utils.data import Dataset, DataLoader\n",
    "import torch.nn.functional as F\n",
    "\n",
    "import transformers\n",
    "from transformers import BertModel, BertTokenizer, AdamW, get_linear_schedule_with_warmup, AutoTokenizer, AutoModel, AutoModelWithLMHead\n",
    "\n",
    "from sklearn import metrics\n",
    "from sklearn.metrics import f1_score\n",
    "from sklearn.metrics import confusion_matrix\n",
    "device = torch.device('cuda' if torch.cuda.is_available() else 'cpu')"
   ]
  },
  {
   "cell_type": "markdown",
   "metadata": {},
   "source": [
    "### Raw Train and Test dataset"
   ]
  },
  {
   "cell_type": "code",
   "execution_count": 2,
   "metadata": {},
   "outputs": [],
   "source": [
    "df_train = pd.read_csv('./drugsCom_raw/drugsComTrain_raw.tsv', delimiter='\\t',encoding='utf-8')\n",
    "df_test = pd.read_csv('./drugsCom_raw/drugsComTest_raw.tsv', delimiter='\\t',encoding='utf-8')"
   ]
  },
  {
   "cell_type": "code",
   "execution_count": 3,
   "metadata": {
    "scrolled": true
   },
   "outputs": [
    {
     "data": {
      "text/html": [
       "<div>\n",
       "<style scoped>\n",
       "    .dataframe tbody tr th:only-of-type {\n",
       "        vertical-align: middle;\n",
       "    }\n",
       "\n",
       "    .dataframe tbody tr th {\n",
       "        vertical-align: top;\n",
       "    }\n",
       "\n",
       "    .dataframe thead th {\n",
       "        text-align: right;\n",
       "    }\n",
       "</style>\n",
       "<table border=\"1\" class=\"dataframe\">\n",
       "  <thead>\n",
       "    <tr style=\"text-align: right;\">\n",
       "      <th></th>\n",
       "      <th>Unnamed: 0</th>\n",
       "      <th>drugName</th>\n",
       "      <th>condition</th>\n",
       "      <th>review</th>\n",
       "      <th>rating</th>\n",
       "      <th>date</th>\n",
       "      <th>usefulCount</th>\n",
       "    </tr>\n",
       "  </thead>\n",
       "  <tbody>\n",
       "    <tr>\n",
       "      <th>0</th>\n",
       "      <td>206461</td>\n",
       "      <td>Valsartan</td>\n",
       "      <td>Left Ventricular Dysfunction</td>\n",
       "      <td>\"It has no side effect, I take it in combinati...</td>\n",
       "      <td>9.0</td>\n",
       "      <td>May 20, 2012</td>\n",
       "      <td>27</td>\n",
       "    </tr>\n",
       "    <tr>\n",
       "      <th>1</th>\n",
       "      <td>95260</td>\n",
       "      <td>Guanfacine</td>\n",
       "      <td>ADHD</td>\n",
       "      <td>\"My son is halfway through his fourth week of ...</td>\n",
       "      <td>8.0</td>\n",
       "      <td>April 27, 2010</td>\n",
       "      <td>192</td>\n",
       "    </tr>\n",
       "    <tr>\n",
       "      <th>2</th>\n",
       "      <td>92703</td>\n",
       "      <td>Lybrel</td>\n",
       "      <td>Birth Control</td>\n",
       "      <td>\"I used to take another oral contraceptive, wh...</td>\n",
       "      <td>5.0</td>\n",
       "      <td>December 14, 2009</td>\n",
       "      <td>17</td>\n",
       "    </tr>\n",
       "    <tr>\n",
       "      <th>3</th>\n",
       "      <td>138000</td>\n",
       "      <td>Ortho Evra</td>\n",
       "      <td>Birth Control</td>\n",
       "      <td>\"This is my first time using any form of birth...</td>\n",
       "      <td>8.0</td>\n",
       "      <td>November 3, 2015</td>\n",
       "      <td>10</td>\n",
       "    </tr>\n",
       "    <tr>\n",
       "      <th>4</th>\n",
       "      <td>35696</td>\n",
       "      <td>Buprenorphine / naloxone</td>\n",
       "      <td>Opiate Dependence</td>\n",
       "      <td>\"Suboxone has completely turned my life around...</td>\n",
       "      <td>9.0</td>\n",
       "      <td>November 27, 2016</td>\n",
       "      <td>37</td>\n",
       "    </tr>\n",
       "  </tbody>\n",
       "</table>\n",
       "</div>"
      ],
      "text/plain": [
       "   Unnamed: 0                  drugName                     condition  \\\n",
       "0      206461                 Valsartan  Left Ventricular Dysfunction   \n",
       "1       95260                Guanfacine                          ADHD   \n",
       "2       92703                    Lybrel                 Birth Control   \n",
       "3      138000                Ortho Evra                 Birth Control   \n",
       "4       35696  Buprenorphine / naloxone             Opiate Dependence   \n",
       "\n",
       "                                              review  rating  \\\n",
       "0  \"It has no side effect, I take it in combinati...     9.0   \n",
       "1  \"My son is halfway through his fourth week of ...     8.0   \n",
       "2  \"I used to take another oral contraceptive, wh...     5.0   \n",
       "3  \"This is my first time using any form of birth...     8.0   \n",
       "4  \"Suboxone has completely turned my life around...     9.0   \n",
       "\n",
       "                date  usefulCount  \n",
       "0       May 20, 2012           27  \n",
       "1     April 27, 2010          192  \n",
       "2  December 14, 2009           17  \n",
       "3   November 3, 2015           10  \n",
       "4  November 27, 2016           37  "
      ]
     },
     "execution_count": 3,
     "metadata": {},
     "output_type": "execute_result"
    }
   ],
   "source": [
    "#dataset sample\n",
    "df_train.head()"
   ]
  },
  {
   "cell_type": "code",
   "execution_count": 4,
   "metadata": {},
   "outputs": [
    {
     "name": "stdout",
     "output_type": "stream",
     "text": [
      "<class 'pandas.core.frame.DataFrame'>\n",
      "RangeIndex: 161297 entries, 0 to 161296\n",
      "Data columns (total 7 columns):\n",
      "Unnamed: 0     161297 non-null int64\n",
      "drugName       161297 non-null object\n",
      "condition      160398 non-null object\n",
      "review         161297 non-null object\n",
      "rating         161297 non-null float64\n",
      "date           161297 non-null object\n",
      "usefulCount    161297 non-null int64\n",
      "dtypes: float64(1), int64(2), object(4)\n",
      "memory usage: 8.6+ MB\n"
     ]
    }
   ],
   "source": [
    "df_train.info()"
   ]
  },
  {
   "cell_type": "code",
   "execution_count": 5,
   "metadata": {},
   "outputs": [
    {
     "name": "stdout",
     "output_type": "stream",
     "text": [
      "<class 'pandas.core.frame.DataFrame'>\n",
      "RangeIndex: 53766 entries, 0 to 53765\n",
      "Data columns (total 7 columns):\n",
      "Unnamed: 0     53766 non-null int64\n",
      "drugName       53766 non-null object\n",
      "condition      53471 non-null object\n",
      "review         53766 non-null object\n",
      "rating         53766 non-null float64\n",
      "date           53766 non-null object\n",
      "usefulCount    53766 non-null int64\n",
      "dtypes: float64(1), int64(2), object(4)\n",
      "memory usage: 2.9+ MB\n"
     ]
    }
   ],
   "source": [
    "df_test.info()"
   ]
  },
  {
   "cell_type": "markdown",
   "metadata": {},
   "source": [
    "### Converting the ratings to sentiment values and adding a new column named 'sentiment', where: Postive: 2, Neutral: 1, Negative: 0"
   ]
  },
  {
   "cell_type": "code",
   "execution_count": 6,
   "metadata": {},
   "outputs": [],
   "source": [
    "def to_sentiment(rat):\n",
    "    rat = int(rat)\n",
    "    if rat <= 3:\n",
    "        return 0\n",
    "    elif rat == 4 or rat == 7:\n",
    "        return 1\n",
    "    else: \n",
    "        return 2\n",
    "\n",
    "df_train['sentiment'] = df_train.rating.apply(to_sentiment)\n",
    "df_test['sentiment'] = df_test.rating.apply(to_sentiment)"
   ]
  },
  {
   "cell_type": "markdown",
   "metadata": {},
   "source": [
    "### Defining a function to preprocess the reviews using regex library."
   ]
  },
  {
   "cell_type": "code",
   "execution_count": 7,
   "metadata": {},
   "outputs": [],
   "source": [
    "def text_preprocessing(text):\n",
    "    # Remove '@name'\n",
    "    text = text.replace('\"',\"\")\n",
    "    \n",
    "    text = re.sub(r'(@.*?)[\\s]', ' ', text)\n",
    "    \n",
    "    # Replace '&amp;' with '&'\n",
    "    text = re.sub(r'&amp;', '&', text)\n",
    "\n",
    "    # Remove trailing whitespace\n",
    "    text = re.sub(r'\\s+', ' ', text).strip()\n",
    "\n",
    "    # Remove '&#039;'\n",
    "    text = re.sub(r'&#039;',\"'\", text)\n",
    "    return text"
   ]
  },
  {
   "cell_type": "code",
   "execution_count": 8,
   "metadata": {},
   "outputs": [],
   "source": [
    "for i in range(len(df_train['review'])):\n",
    "    text_preprocessing(df_train['review'][i])\n",
    "for i in range(len(df_test['review'])):\n",
    "    text_preprocessing(df_test['review'][i])"
   ]
  },
  {
   "cell_type": "markdown",
   "metadata": {},
   "source": [
    "### Dataframes after removing extra columns and splitting the train data into train and validation"
   ]
  },
  {
   "cell_type": "code",
   "execution_count": 9,
   "metadata": {},
   "outputs": [],
   "source": [
    "#dropping the columns that are not needed\n",
    "train = df_train.drop(['Unnamed: 0','drugName','condition','date','rating','usefulCount'], axis = 1)\n",
    "test = df_test.drop(['Unnamed: 0','drugName','condition','date','rating','usefulCount'], axis = 1)"
   ]
  },
  {
   "cell_type": "code",
   "execution_count": 10,
   "metadata": {},
   "outputs": [
    {
     "data": {
      "text/html": [
       "<div>\n",
       "<style scoped>\n",
       "    .dataframe tbody tr th:only-of-type {\n",
       "        vertical-align: middle;\n",
       "    }\n",
       "\n",
       "    .dataframe tbody tr th {\n",
       "        vertical-align: top;\n",
       "    }\n",
       "\n",
       "    .dataframe thead th {\n",
       "        text-align: right;\n",
       "    }\n",
       "</style>\n",
       "<table border=\"1\" class=\"dataframe\">\n",
       "  <thead>\n",
       "    <tr style=\"text-align: right;\">\n",
       "      <th></th>\n",
       "      <th>review</th>\n",
       "      <th>sentiment</th>\n",
       "    </tr>\n",
       "  </thead>\n",
       "  <tbody>\n",
       "    <tr>\n",
       "      <th>0</th>\n",
       "      <td>\"It has no side effect, I take it in combinati...</td>\n",
       "      <td>2</td>\n",
       "    </tr>\n",
       "    <tr>\n",
       "      <th>1</th>\n",
       "      <td>\"My son is halfway through his fourth week of ...</td>\n",
       "      <td>2</td>\n",
       "    </tr>\n",
       "    <tr>\n",
       "      <th>2</th>\n",
       "      <td>\"I used to take another oral contraceptive, wh...</td>\n",
       "      <td>2</td>\n",
       "    </tr>\n",
       "    <tr>\n",
       "      <th>3</th>\n",
       "      <td>\"This is my first time using any form of birth...</td>\n",
       "      <td>2</td>\n",
       "    </tr>\n",
       "    <tr>\n",
       "      <th>4</th>\n",
       "      <td>\"Suboxone has completely turned my life around...</td>\n",
       "      <td>2</td>\n",
       "    </tr>\n",
       "  </tbody>\n",
       "</table>\n",
       "</div>"
      ],
      "text/plain": [
       "                                              review  sentiment\n",
       "0  \"It has no side effect, I take it in combinati...          2\n",
       "1  \"My son is halfway through his fourth week of ...          2\n",
       "2  \"I used to take another oral contraceptive, wh...          2\n",
       "3  \"This is my first time using any form of birth...          2\n",
       "4  \"Suboxone has completely turned my life around...          2"
      ]
     },
     "execution_count": 10,
     "metadata": {},
     "output_type": "execute_result"
    }
   ],
   "source": [
    "train.head()"
   ]
  },
  {
   "cell_type": "code",
   "execution_count": 11,
   "metadata": {},
   "outputs": [],
   "source": [
    "train_data = train.sample(frac=0.8, random_state=1)\n",
    "val_data = train[~train.index.isin(train_data.index)]\n",
    "test_data = test"
   ]
  },
  {
   "cell_type": "code",
   "execution_count": 12,
   "metadata": {},
   "outputs": [
    {
     "name": "stdout",
     "output_type": "stream",
     "text": [
      "Negative 0: 27958\n",
      "Neutral 1: 11590\n",
      "Positive 2: 89490\n"
     ]
    },
    {
     "data": {
      "text/plain": [
       "<matplotlib.axes._subplots.AxesSubplot at 0x193a6c5e2e8>"
      ]
     },
     "execution_count": 12,
     "metadata": {},
     "output_type": "execute_result"
    },
    {
     "data": {
      "image/png": "[encoded data removed]",
      "text/plain": [
       "<Figure size 432x288 with 1 Axes>"
      ]
     },
     "metadata": {
      "needs_background": "light"
     },
     "output_type": "display_data"
    }
   ],
   "source": [
    "sentiment_count = train_data.sentiment.value_counts()\n",
    "print('Negative 0:', sentiment_count[0])\n",
    "print('Neutral 1:', sentiment_count[1])\n",
    "print('Positive 2:', sentiment_count[2])\n",
    "\n",
    "sentiment_count.plot(kind='bar', title='Samples under each sentiment in train set', color = list('rgb'))"
   ]
  },
  {
   "cell_type": "code",
   "execution_count": 13,
   "metadata": {},
   "outputs": [
    {
     "name": "stdout",
     "output_type": "stream",
     "text": [
      "Negative 0: 11838\n",
      "Neutral 1: 4750\n",
      "Positive 2: 37178\n"
     ]
    },
    {
     "data": {
      "text/plain": [
       "<matplotlib.axes._subplots.AxesSubplot at 0x193a6bdb208>"
      ]
     },
     "execution_count": 13,
     "metadata": {},
     "output_type": "execute_result"
    },
    {
     "data": {
      "image/png": "[encoded data removed]",
      "text/plain": [
       "<Figure size 432x288 with 1 Axes>"
      ]
     },
     "metadata": {
      "needs_background": "light"
     },
     "output_type": "display_data"
    }
   ],
   "source": [
    "sentiment_count = test_data.sentiment.value_counts()\n",
    "print('Negative 0:', sentiment_count[0])\n",
    "print('Neutral 1:', sentiment_count[1])\n",
    "print('Positive 2:', sentiment_count[2])\n",
    "\n",
    "sentiment_count.plot(kind='bar', title='Samples under each sentiment in test set', color = list('rgb'))"
   ]
  },
  {
   "cell_type": "code",
   "execution_count": 14,
   "metadata": {},
   "outputs": [
    {
     "name": "stdout",
     "output_type": "stream",
     "text": [
      "Negative 0: 7105\n",
      "Neutral 1: 2878\n",
      "Positive 2: 22276\n"
     ]
    },
    {
     "data": {
      "text/plain": [
       "<matplotlib.axes._subplots.AxesSubplot at 0x193a6c0eda0>"
      ]
     },
     "execution_count": 14,
     "metadata": {},
     "output_type": "execute_result"
    },
    {
     "data": {
      "image/png": "[encoded data removed]",
      "text/plain": [
       "<Figure size 432x288 with 1 Axes>"
      ]
     },
     "metadata": {
      "needs_background": "light"
     },
     "output_type": "display_data"
    }
   ],
   "source": [
    "sentiment_count = val_data.sentiment.value_counts()\n",
    "print('Negative 0:', sentiment_count[0])\n",
    "print('Neutral 1:', sentiment_count[1])\n",
    "print('Positive 2:', sentiment_count[2])\n",
    "\n",
    "sentiment_count.plot(kind='bar', title='Samples under each sentiment in validation set', color = list('rgb'))"
   ]
  },
  {
   "cell_type": "markdown",
   "metadata": {},
   "source": [
    "### Bert specific preprocessing: \n",
    "Using encode_plus to preprocess the reviews: Tokenize using BertTokenizer ('bert-base-cased'), add special tokens ( [CLS], [PAD], [SEP], [UNK] ), truncate the reviews to a maximum length of 512 and return the attention masks."
   ]
  },
  {
   "cell_type": "code",
   "execution_count": 15,
   "metadata": {},
   "outputs": [
    {
     "name": "stderr",
     "output_type": "stream",
     "text": [
      "I0826 15:36:30.281196  3292 configuration_utils.py:285] loading configuration file https://s3.amazonaws.com/models.huggingface.co/bert/dmis-lab/biobert-v1.1/config.json from cache at C:\\Users\\adbb083\\.cache\\torch\\transformers\\f8aa55d48600e63a39633cbb1bd933404d161174c7cabf1b4059b574404d6c19.08d27a67caf57f599c177c8e7fefc24d3e2f9a4e6ed2feca12f613f48c66ce07\n",
      "I0826 15:36:30.281196  3292 configuration_utils.py:321] Model config BertConfig {\n",
      "  \"architectures\": [\n",
      "    \"BertModel\"\n",
      "  ],\n",
      "  \"attention_probs_dropout_prob\": 0.1,\n",
      "  \"gradient_checkpointing\": false,\n",
      "  \"hidden_act\": \"gelu\",\n",
      "  \"hidden_dropout_prob\": 0.1,\n",
      "  \"hidden_size\": 768,\n",
      "  \"initializer_range\": 0.02,\n",
      "  \"intermediate_size\": 3072,\n",
      "  \"layer_norm_eps\": 1e-12,\n",
      "  \"max_position_embeddings\": 512,\n",
      "  \"model_type\": \"bert\",\n",
      "  \"num_attention_heads\": 12,\n",
      "  \"num_hidden_layers\": 12,\n",
      "  \"pad_token_id\": 0,\n",
      "  \"type_vocab_size\": 2,\n",
      "  \"vocab_size\": 28996\n",
      "}\n",
      "\n",
      "I0826 15:36:30.296856  3292 tokenization_utils.py:925] Model name 'dmis-lab/biobert-v1.1' not found in model shortcut name list (bert-base-uncased, bert-large-uncased, bert-base-cased, bert-large-cased, bert-base-multilingual-uncased, bert-base-multilingual-cased, bert-base-chinese, bert-base-german-cased, bert-large-uncased-whole-word-masking, bert-large-cased-whole-word-masking, bert-large-uncased-whole-word-masking-finetuned-squad, bert-large-cased-whole-word-masking-finetuned-squad, bert-base-cased-finetuned-mrpc, bert-base-german-dbmdz-cased, bert-base-german-dbmdz-uncased, bert-base-finnish-cased-v1, bert-base-finnish-uncased-v1, bert-base-dutch-cased). Assuming 'dmis-lab/biobert-v1.1' is a path, a model identifier, or url to a directory containing tokenizer files.\n",
      "I0826 15:36:31.828379  3292 tokenization_utils.py:1011] loading file https://s3.amazonaws.com/models.huggingface.co/bert/dmis-lab/biobert-v1.1/vocab.txt from cache at C:\\Users\\adbb083\\.cache\\torch\\transformers\\788ec7f94fa5412d56872a6c92079f8f48fb3dfbb1994fdeb251302999562180.e13dbb970cb325137104fb2e5f36fe865f27746c6b526f6352861b1980eb80b1\n",
      "I0826 15:36:31.843715  3292 tokenization_utils.py:1011] loading file https://s3.amazonaws.com/models.huggingface.co/bert/dmis-lab/biobert-v1.1/added_tokens.json from cache at None\n",
      "I0826 15:36:31.843715  3292 tokenization_utils.py:1011] loading file https://s3.amazonaws.com/models.huggingface.co/bert/dmis-lab/biobert-v1.1/special_tokens_map.json from cache at C:\\Users\\adbb083\\.cache\\torch\\transformers\\29bcdc1d6651ef6310f8743ffb91ebec1135819dde9448330d5c636dc614425f.275045728fbf41c11d3dae08b8742c054377e18d92cc7b72b6351152a99b64e4\n",
      "I0826 15:36:31.843715  3292 tokenization_utils.py:1011] loading file https://s3.amazonaws.com/models.huggingface.co/bert/dmis-lab/biobert-v1.1/tokenizer_config.json from cache at C:\\Users\\adbb083\\.cache\\torch\\transformers\\026b114b2c81e958018d6178d7a172b0ecc5db56f6f8923f0679696c4e09a0ff.33188cc140c92703fe59093b4841dbac6ef481e1a8ab71edfbef8649b9c44029\n"
     ]
    }
   ],
   "source": [
    "# Loading the bert tokenizers for different domain Bert models\n",
    "\n",
    "#tokenizer = BertTokenizer.from_pretrained('bert-base-uncased')\n",
    "#tokenizer = AutoTokenizer.from_pretrained(\"emilyalsentzer/Bio_ClinicalBERT\")\n",
    "tokenizer = AutoTokenizer.from_pretrained(\"dmis-lab/biobert-v1.1\")"
   ]
  },
  {
   "cell_type": "code",
   "execution_count": 16,
   "metadata": {},
   "outputs": [
    {
     "name": "stdout",
     "output_type": "stream",
     "text": [
      "[UNK] 100\n",
      "[SEP] 102\n",
      "[CLS] 101\n",
      "[PAD] 0\n"
     ]
    }
   ],
   "source": [
    "#Special tokens used by BERT\n",
    "\n",
    "print(tokenizer.unk_token, tokenizer.unk_token_id)\n",
    "print(tokenizer.sep_token, tokenizer.sep_token_id)\n",
    "print(tokenizer.cls_token, tokenizer.cls_token_id)\n",
    "print(tokenizer.pad_token, tokenizer.pad_token_id)\n"
   ]
  },
  {
   "cell_type": "code",
   "execution_count": 17,
   "metadata": {},
   "outputs": [],
   "source": [
    "class Bert_specific_preprocessing(Dataset):\n",
    "\n",
    "    def __init__(self, reviews, targets, tokenizer, max_len):\n",
    "        self.reviews = reviews\n",
    "        self.targets = targets\n",
    "        self.tokenizer = tokenizer\n",
    "        self.max_len = max_len\n",
    "  \n",
    "    def __len__(self):\n",
    "        return len(self.reviews)\n",
    "  \n",
    "    def __getitem__(self, item):\n",
    "        review = str(self.reviews[item])\n",
    "        target = self.targets[item]\n",
    "\n",
    "        encoding = self.tokenizer.encode_plus(\n",
    "        review, #= text_preprocessing(review),\n",
    "        add_special_tokens = True,\n",
    "        max_length = self.max_len,\n",
    "        return_token_type_ids = False,\n",
    "        pad_to_max_length = True,\n",
    "        return_attention_mask = True,\n",
    "        return_tensors = 'pt')\n",
    "\n",
    "        return {'review_text': review,\n",
    "        'input_ids': encoding['input_ids'].flatten(),\n",
    "        'attention_mask': encoding['attention_mask'].flatten(),\n",
    "        'targets': torch.tensor(target, dtype=torch.long)}"
   ]
  },
  {
   "cell_type": "markdown",
   "metadata": {},
   "source": [
    "### Using Pytorch Dataloader to load the preprocessed dataset"
   ]
  },
  {
   "cell_type": "code",
   "execution_count": 18,
   "metadata": {},
   "outputs": [],
   "source": [
    "def create_data_loader(df, tokenizer, max_len, batch_size):\n",
    "    ds = Bert_specific_preprocessing(reviews=df.review.to_numpy(),\n",
    "        targets = df.sentiment.to_numpy(),\n",
    "        tokenizer = tokenizer,\n",
    "        max_len = max_len)\n",
    "\n",
    "    return DataLoader(ds,\n",
    "    batch_size=batch_size,\n",
    "    num_workers=0)\n",
    "\n",
    "BATCH_SIZE = 16\n",
    "MAX_LEN = 512\n",
    "\n",
    "train_data_loader = create_data_loader(train_data[:10000], tokenizer, MAX_LEN, BATCH_SIZE)\n",
    "val_data_loader = create_data_loader(val_data[:8000], tokenizer, MAX_LEN, BATCH_SIZE)\n",
    "test_data_loader = create_data_loader(test_data[:8000], tokenizer, MAX_LEN, BATCH_SIZE)\n"
   ]
  },
  {
   "cell_type": "markdown",
   "metadata": {},
   "source": [
    "## Model and Custom Functionality"
   ]
  },
  {
   "cell_type": "markdown",
   "metadata": {},
   "source": [
    "### Pretrained BERT models used: Bert Base Cased, BioClinicalBert and BioBert "
   ]
  },
  {
   "cell_type": "code",
   "execution_count": 19,
   "metadata": {},
   "outputs": [
    {
     "name": "stderr",
     "output_type": "stream",
     "text": [
      "I0826 15:36:32.374751  3292 configuration_utils.py:285] loading configuration file https://s3.amazonaws.com/models.huggingface.co/bert/dmis-lab/biobert-v1.1/config.json from cache at C:\\Users\\adbb083\\.cache\\torch\\transformers\\f8aa55d48600e63a39633cbb1bd933404d161174c7cabf1b4059b574404d6c19.08d27a67caf57f599c177c8e7fefc24d3e2f9a4e6ed2feca12f613f48c66ce07\n",
      "I0826 15:36:32.374751  3292 configuration_utils.py:321] Model config BertConfig {\n",
      "  \"architectures\": [\n",
      "    \"BertModel\"\n",
      "  ],\n",
      "  \"attention_probs_dropout_prob\": 0.1,\n",
      "  \"gradient_checkpointing\": false,\n",
      "  \"hidden_act\": \"gelu\",\n",
      "  \"hidden_dropout_prob\": 0.1,\n",
      "  \"hidden_size\": 768,\n",
      "  \"initializer_range\": 0.02,\n",
      "  \"intermediate_size\": 3072,\n",
      "  \"layer_norm_eps\": 1e-12,\n",
      "  \"max_position_embeddings\": 512,\n",
      "  \"model_type\": \"bert\",\n",
      "  \"num_attention_heads\": 12,\n",
      "  \"num_hidden_layers\": 12,\n",
      "  \"pad_token_id\": 0,\n",
      "  \"type_vocab_size\": 2,\n",
      "  \"vocab_size\": 28996\n",
      "}\n",
      "\n",
      "I0826 15:36:32.437570  3292 modeling_utils.py:617] loading weights file https://cdn.huggingface.co/dmis-lab/biobert-v1.1/pytorch_model.bin from cache at C:\\Users\\adbb083\\.cache\\torch\\transformers\\a5ea36102a9f4213c56a03820049979ab9dfc8c2c8e63c20095e69050c8b3e2c.1a16d1ac9f74d161ec6db0dad3d9eebd95872ad73fc70c8fc92bffc89cf0b84c\n"
     ]
    }
   ],
   "source": [
    "#bert_model = BertModel.from_pretrained('bert-base-cased')\n",
    "#bert_model = AutoModel.from_pretrained(\"emilyalsentzer/Bio_ClinicalBERT\")\n",
    "bert_model = AutoModel.from_pretrained(\"dmis-lab/biobert-v1.1\")"
   ]
  },
  {
   "cell_type": "markdown",
   "metadata": {},
   "source": [
    "### BERT with 2 Linear layers"
   ]
  },
  {
   "cell_type": "code",
   "execution_count": 20,
   "metadata": {},
   "outputs": [],
   "source": [
    "class BERT_Sentiment(nn.Module):\n",
    "\n",
    "    def __init__(self):\n",
    "        super(BERT_Sentiment, self).__init__()\n",
    "        \n",
    "        self.bert = bert_model\n",
    "        \n",
    "        self.linear1 = nn.Linear(768, 512)\n",
    "        self.drop = nn.Dropout(p=0.3)\n",
    "        self.relu = nn.ReLU()\n",
    "        \n",
    "        self.out = nn.Linear(512, 3)\n",
    "  \n",
    "    def forward(self, input_ids, attention_mask):\n",
    "        \n",
    "        _, pooled_output = self.bert(input_ids=input_ids, attention_mask=attention_mask)\n",
    "        \n",
    "        x = self.linear1(pooled_output)\n",
    "        x = self.relu(x)\n",
    "        x = self.drop(x)\n",
    "        output = self.out(x)\n",
    "        \n",
    "        return output"
   ]
  },
  {
   "cell_type": "markdown",
   "metadata": {},
   "source": [
    "### BERT with 2 GRU layers and one linear layer"
   ]
  },
  {
   "cell_type": "code",
   "execution_count": 21,
   "metadata": {},
   "outputs": [],
   "source": [
    "class BERTGRU_Sentiment(nn.Module):\n",
    "\n",
    "    def __init__(self): \n",
    "        super(BERTGRU_Sentiment, self).__init__()          \n",
    "        \n",
    "        self.bert = bert_model\n",
    "        \n",
    "        embedding_dim = bert_model.config.to_dict()['hidden_size']\n",
    "        \n",
    "        self.rnn = nn.GRU(embedding_dim,\n",
    "                          512,\n",
    "                          num_layers = 1,\n",
    "                          bidirectional = True,\n",
    "                          batch_first = True)\n",
    "        \n",
    "        self.dropout = nn.Dropout(0.2)\n",
    "        self.out = nn.Linear(512 * 2, 3)\n",
    "        \n",
    "        \n",
    "        \n",
    "    def forward(self, input_ids, attention_mask):\n",
    "\n",
    "        with torch.no_grad():\n",
    "            embedded = self.bert(input_ids=input_ids, attention_mask=attention_mask)[0]\n",
    "        _, hidden = self.rnn(embedded)\n",
    "\n",
    "        if self.rnn.bidirectional:\n",
    "            hidden = self.dropout(torch.cat((hidden[-2,:,:], hidden[-1,:,:]), dim = 1))\n",
    "        else:\n",
    "            hidden = self.dropout(hidden[-1,:,:])\n",
    "\n",
    "        output = self.out(hidden)\n",
    "        \n",
    "        return output\n"
   ]
  },
  {
   "cell_type": "markdown",
   "metadata": {},
   "source": [
    "## Training and Evaluation function definition"
   ]
  },
  {
   "cell_type": "code",
   "execution_count": 22,
   "metadata": {},
   "outputs": [],
   "source": [
    "def train_model(model, data_loader, loss_fn, optimizer, device, scheduler, n_examples):\n",
    "    model = model.train()\n",
    "\n",
    "    losses = []\n",
    "    correct_predictions = 0\n",
    "\n",
    "    for d in data_loader:\n",
    "        input_ids = d[\"input_ids\"].to(device)\n",
    "        attention_mask = d[\"attention_mask\"].to(device)\n",
    "        targets = d[\"targets\"].to(device)\n",
    "\n",
    "        pred = model(input_ids=input_ids, attention_mask=attention_mask)\n",
    "        #pred = F.softmax(pred, dim = 1)\n",
    "        loss = loss_fn(pred, targets)\n",
    "        pred_val = torch.argmax(pred, dim = 1).to(device)\n",
    "        correct_predictions += torch.sum(pred_val == targets)\n",
    "\n",
    "        losses.append(loss.item())\n",
    "\n",
    "        loss.backward()\n",
    "        nn.utils.clip_grad_norm_(model.parameters(), max_norm=1.0)\n",
    "        optimizer.step()\n",
    "        scheduler.step()\n",
    "        optimizer.zero_grad()\n",
    "\n",
    "    return correct_predictions.double() / n_examples, np.mean(losses)\n",
    "\n",
    "def eval_model(model, data_loader, loss_fn, device, n_examples):\n",
    "    model = model.eval()\n",
    "\n",
    "    losses = []\n",
    "    correct_predictions = 0\n",
    "\n",
    "    with torch.no_grad():\n",
    "        \n",
    "        for d in data_loader:\n",
    "            \n",
    "            input_ids = d[\"input_ids\"].to(device)\n",
    "            attention_mask = d[\"attention_mask\"].to(device)\n",
    "            targets = d[\"targets\"].to(device)\n",
    "\n",
    "            pred = model(input_ids=input_ids, attention_mask=attention_mask)\n",
    "            #pred = F.softmax(pred, dim = 1)\n",
    "            loss = loss_fn(pred, targets)\n",
    "            pred_val = torch.argmax(pred, dim = 1).to(device)\n",
    "            correct_predictions += torch.sum(pred_val == targets)\n",
    "            \n",
    "            losses.append(loss.item())\n",
    "\n",
    "    return correct_predictions.double() / n_examples, np.mean(losses)"
   ]
  },
  {
   "cell_type": "markdown",
   "metadata": {},
   "source": [
    "### Training the model"
   ]
  },
  {
   "cell_type": "code",
   "execution_count": 23,
   "metadata": {},
   "outputs": [],
   "source": [
    "EPOCHS = 6\n",
    "\n",
    "class_names = ['negative', 'neutral', 'positive']\n",
    "total_steps = len(train_data_loader) * EPOCHS\n",
    "\n",
    "loss_fn = nn.CrossEntropyLoss().to(device)\n",
    "\n",
    "best_accuracy = 0\n",
    "t_acc = []\n",
    "t_loss =[]\n",
    "v_loss = []\n",
    "v_acc = []"
   ]
  },
  {
   "cell_type": "code",
   "execution_count": 24,
   "metadata": {},
   "outputs": [],
   "source": [
    "# BERT with 2 linear layers: model 1\n",
    "\n",
    "model1 = BERT_Sentiment()\n",
    "model1 = model1.to(device)\n",
    "\n",
    "#optimizer1 = torch.optim.RMSprop(model1.parameters(), lr=2e-5)\n",
    "optimizer1 = AdamW(model1.parameters(), lr=2e-5, correct_bias=False)\n",
    "scheduler1 = get_linear_schedule_with_warmup(optimizer1, num_warmup_steps=0, num_training_steps=total_steps)"
   ]
  },
  {
   "cell_type": "code",
   "execution_count": 25,
   "metadata": {},
   "outputs": [],
   "source": [
    "#BERT with GRU layer: model 2\n",
    "\n",
    "model2 = BERTGRU_Sentiment()\n",
    "model2 = model2.to(device)\n",
    "\n",
    "#optimizer2 = torch.optim.RMSprop(model2.parameters(), lr=2e-5)\n",
    "optimizer2 = AdamW(model2.parameters(), lr=2e-5, correct_bias=False)\n",
    "scheduler2 = get_linear_schedule_with_warmup(optimizer2, num_warmup_steps=0, num_training_steps=total_steps)"
   ]
  },
  {
   "cell_type": "code",
   "execution_count": null,
   "metadata": {},
   "outputs": [],
   "source": [
    "# Training the model\n",
    "start_time = time.time()\n",
    "for epoch in range(EPOCHS):\n",
    "\n",
    "    print(\"Epoch\", epoch +1)\n",
    "\n",
    "    train_acc, train_loss = train_model(model1, train_data_loader, loss_fn, optimizer1, device, scheduler1, len(train_data[:10000]))\n",
    "    print(\"Train loss:\", \"{:.3f}\".format(train_loss), \"| Train accuracy\", \"{:.2f}\".format(train_acc*100),\"%\")\n",
    "    \n",
    "    val_acc, val_loss = eval_model(model1, val_data_loader, loss_fn, device, len(val_data[:8000]))\n",
    "    print(\"Val loss:\", \"{:.3f}\".format(val_loss), \"| Val accuracy\", \"{:.2f}\".format(val_acc*100),\"%\")\n",
    "    \n",
    "    print(\"Time: {}\".format(time.strftime(\"%Hh %Mm %Ss\", time.gmtime(time.time() - start_time))))\n",
    "    print()\n",
    "    t_acc.append(train_acc)\n",
    "    t_loss.append(train_loss)\n",
    "    v_loss.append(val_loss)\n",
    "    v_acc.append(val_acc)\n",
    "    \n",
    "    pickle.dump(t_acc, open('./t_acc.pickle','wb'))\n",
    "    pickle.dump(v_acc, open('./v_acc.pickle','wb'))\n",
    "    pickle.dump(t_loss, open('./t_loss.pickle','wb'))\n",
    "    pickle.dump(v_loss, open('./v_loss.pickle','wb'))\n",
    "\n",
    "    if val_acc > best_accuracy:\n",
    "        torch.save(model1.state_dict(), 'LINEAR_BioBert.pt')\n",
    "        best_accuracy = val_acc\n"
   ]
  },
  {
   "cell_type": "markdown",
   "metadata": {},
   "source": [
    "## Evaluating the performance of the trained model on test dataset"
   ]
  },
  {
   "cell_type": "markdown",
   "metadata": {},
   "source": [
    "#### Loading the pretrained custom model "
   ]
  },
  {
   "cell_type": "code",
   "execution_count": 27,
   "metadata": {},
   "outputs": [],
   "source": [
    "model1 = BERT_Sentiment()\n",
    "model1.load_state_dict(torch.load('./LINEAR_BioBert/LINEAR_BioBert.pt', map_location = device))\n",
    "model1 = model1.to(device)"
   ]
  },
  {
   "cell_type": "code",
   "execution_count": 28,
   "metadata": {},
   "outputs": [
    {
     "name": "stdout",
     "output_type": "stream",
     "text": [
      "Test loss: 0.516 | Test Accuracy 81.08 %\n"
     ]
    }
   ],
   "source": [
    "test_acc, test_loss = eval_model(model1, test_data_loader, loss_fn, device, len(test_data[:8000]))\n",
    "print(\"Test loss:\", \"{:.3f}\".format(test_loss), \"| Test Accuracy\", \"{:.2f}\".format(test_acc*100),\"%\")"
   ]
  },
  {
   "cell_type": "markdown",
   "metadata": {},
   "source": [
    "## Prediction on Test data and individual reviews"
   ]
  },
  {
   "cell_type": "markdown",
   "metadata": {},
   "source": [
    "#### Defining a function to predict the sentiment of test dataset and individual reviews"
   ]
  },
  {
   "cell_type": "code",
   "execution_count": 29,
   "metadata": {},
   "outputs": [],
   "source": [
    "def get_predictions(model, data_loader):\n",
    "    model = model.eval()\n",
    "  \n",
    "    review_texts = []\n",
    "    predictions = []\n",
    "    prediction_probs = []\n",
    "    real_values = []\n",
    "\n",
    "    with torch.no_grad():\n",
    "        for d in data_loader:\n",
    "\n",
    "            texts = d[\"review_text\"]\n",
    "            input_ids = d[\"input_ids\"].to(device)\n",
    "            attention_mask = d[\"attention_mask\"].to(device)\n",
    "            targets = d[\"targets\"].to(device)\n",
    "            \n",
    "            pred = model(input_ids=input_ids,\n",
    "            attention_mask=attention_mask)\n",
    "\n",
    "            pred_val = torch.argmax(pred, dim = 1).to(device)\n",
    "            preds = pred_val \n",
    "            probs = F.softmax(pred, dim=1)\n",
    "\n",
    "            review_texts.extend(texts)\n",
    "            predictions.extend(preds)\n",
    "            prediction_probs.extend(probs)\n",
    "            real_values.extend(targets)\n",
    "\n",
    "    predictions = torch.stack(predictions).cpu()\n",
    "    prediction_probs = torch.stack(prediction_probs).cpu()\n",
    "    real_values = torch.stack(real_values).cpu()\n",
    "  \n",
    "    return review_texts, predictions, prediction_probs, real_values"
   ]
  },
  {
   "cell_type": "code",
   "execution_count": 30,
   "metadata": {},
   "outputs": [],
   "source": [
    "y_review_texts, y_pred, y_pred_probs, y_test = get_predictions(model1, test_data_loader)"
   ]
  },
  {
   "cell_type": "markdown",
   "metadata": {},
   "source": [
    "### F1 Score"
   ]
  },
  {
   "cell_type": "code",
   "execution_count": 31,
   "metadata": {},
   "outputs": [
    {
     "name": "stdout",
     "output_type": "stream",
     "text": [
      "F1 Score: 0.811\n"
     ]
    }
   ],
   "source": [
    "print(\"F1 Score:\", \"{:.3f}\".format( metrics.f1_score(y_test, y_pred, labels=None, average='micro')))"
   ]
  },
  {
   "cell_type": "markdown",
   "metadata": {},
   "source": [
    "### Sentiment Prediction on Test Data"
   ]
  },
  {
   "cell_type": "code",
   "execution_count": 32,
   "metadata": {},
   "outputs": [
    {
     "name": "stdout",
     "output_type": "stream",
     "text": [
      "\"My son has Crohn&#039;s disease and has done very well on the Asacol.  He has no complaints and shows no side effects.  He has taken as many as nine tablets per day at one time.  I&#039;ve been very happy with the results, reducing his bouts of diarrhea drastically.\"\n",
      "\n",
      "Predicted sentiment value: 2\n",
      "Predicted sentiment: positive\n",
      "\n",
      "True sentiment value: 2\n",
      "True sentiment: positive\n"
     ]
    }
   ],
   "source": [
    "idx = 1\n",
    "\n",
    "review_text = y_review_texts[idx]\n",
    "true_sentiment = y_test[idx]\n",
    "predicted_sentiment = y_pred[idx]\n",
    "pred_df = pd.DataFrame({\n",
    "  'class_names': class_names,\n",
    "  'values': y_pred_probs[idx]\n",
    "})\n",
    "\n",
    "print(review_text)\n",
    "print()\n",
    "print(\"Predicted sentiment value:\", predicted_sentiment.numpy())\n",
    "print(\"Predicted sentiment:\", class_names[predicted_sentiment])\n",
    "print()\n",
    "print(\"True sentiment value:\", true_sentiment.numpy())\n",
    "print(\"True sentiment:\", class_names[true_sentiment])"
   ]
  },
  {
   "cell_type": "code",
   "execution_count": 33,
   "metadata": {},
   "outputs": [
    {
     "name": "stdout",
     "output_type": "stream",
     "text": [
      "\"I am a 25 year old female. I was diagnosed with bipolar II disorder about 5 years ago. I have been taking 150mg of lamotrigine for over 2 years. Thus far I have experienced significant improvements in controlling my bipolar II disorder. I recently paired 100mg of sertraline to improve the lows. Also, I experience rapid cycling. I rated this drug 70% as I feel I still have a long way to go in recovery. But, the drug has definitely allowed me to be a highly functioning individual.\"\n",
      "\n",
      "Predicted sentiment value: 2\n",
      "Predicted sentiment: positive\n",
      "\n",
      "True sentiment value: 1\n",
      "True sentiment: neutral\n"
     ]
    }
   ],
   "source": [
    "idx = 29\n",
    "\n",
    "review_text = y_review_texts[idx]\n",
    "true_sentiment = y_test[idx]\n",
    "predicted_sentiment = y_pred[idx]\n",
    "pred_df = pd.DataFrame({\n",
    "  'class_names': class_names,\n",
    "  'values': y_pred_probs[idx]\n",
    "})\n",
    "\n",
    "print(review_text)\n",
    "print()\n",
    "print(\"Predicted sentiment value:\", predicted_sentiment.numpy())\n",
    "print(\"Predicted sentiment:\", class_names[predicted_sentiment])\n",
    "print()\n",
    "print(\"True sentiment value:\", true_sentiment.numpy())\n",
    "print(\"True sentiment:\", class_names[true_sentiment])"
   ]
  },
  {
   "cell_type": "markdown",
   "metadata": {},
   "source": [
    "### Sentiment prediction on Raw data"
   ]
  },
  {
   "cell_type": "code",
   "execution_count": 35,
   "metadata": {},
   "outputs": [
    {
     "name": "stdout",
     "output_type": "stream",
     "text": [
      "Review text: I need to take many dosages to see the effect. It harms my nervous system and makes me feel more sick. I am not taking it again and will not recommend it to anyone.\n",
      "Sentiment probabilities: tensor([[0.8954, 0.0632, 0.0414]], device='cuda:0', grad_fn=<SoftmaxBackward>)\n",
      "\n",
      "sentiment value: tensor([0], device='cuda:0')\n",
      "Sentiment: negative\n"
     ]
    }
   ],
   "source": [
    "raw_text = 'I need to take many dosages to see the effect. It harms my nervous system and makes me feel more sick. I am not taking it again and will not recommend it to anyone.' \n",
    "\n",
    "encoded_review = tokenizer.encode_plus(\n",
    "  raw_text,\n",
    "  max_length=MAX_LEN,\n",
    "  add_special_tokens=True,\n",
    "  return_token_type_ids=False,\n",
    "  pad_to_max_length=True,\n",
    "  return_attention_mask=True,\n",
    "  return_tensors='pt',\n",
    ")\n",
    "\n",
    "\n",
    "input_ids = encoded_review['input_ids'].to(device)\n",
    "attention_mask = encoded_review['attention_mask'].to(device)\n",
    "\n",
    "pred = model1(input_ids, attention_mask)\n",
    "\n",
    "pred_val = torch.argmax(pred, dim = 1).to(device)\n",
    "probs = F.softmax(pred, dim=1)\n",
    "\n",
    "print(\"Review text:\", raw_text)\n",
    "print(\"Sentiment probabilities:\", probs)\n",
    "print()\n",
    "print(\"sentiment value:\", pred_val)\n",
    "print(\"Sentiment:\", class_names[pred_val])"
   ]
  },
  {
   "cell_type": "code",
   "execution_count": null,
   "metadata": {},
   "outputs": [],
   "source": []
  }
 ],
 "metadata": {
  "kernelspec": {
   "display_name": "Python 3",
   "language": "python",
   "name": "python3"
  },
  "language_info": {
   "codemirror_mode": {
    "name": "ipython",
    "version": 3
   },
   "file_extension": ".py",
   "mimetype": "text/x-python",
   "name": "python",
   "nbconvert_exporter": "python",
   "pygments_lexer": "ipython3",
   "version": "3.6.5"
  }
 },
 "nbformat": 4,
 "nbformat_minor": 2
}
